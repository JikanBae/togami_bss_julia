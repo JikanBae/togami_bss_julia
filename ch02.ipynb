{
 "cells": [
  {
   "cell_type": "markdown",
   "id": "judicial-syntax",
   "metadata": {},
   "source": [
    "戸上真人「Pythonで学ぶ音源分離」https://amzn.to/3pRqvII をJuliaでやっていく\n",
    "\n",
    "# 第2章「音声処理の基礎」"
   ]
  },
  {
   "cell_type": "code",
   "execution_count": null,
   "id": "analyzed-detector",
   "metadata": {},
   "outputs": [],
   "source": [
    "versioninfo()"
   ]
  },
  {
   "cell_type": "markdown",
   "id": "active-authorization",
   "metadata": {},
   "source": [
    "## 第1節「音声ファイルを開いてみよう」\n",
    "CMU ARCTIC Corpus http://www.festvox.org/cmu_arctic/ から音声ファイルを落としてきて開く。\n",
    "書籍ではpyroomacousticsを使っているけど、ここは手動でいいや。\n",
    "\n",
    "```\n",
    "curl -O http://festvox.org/cmu_arctic/packed/cmu_us_aew_arctic.tar.bz2\n",
    "tar xvfj cmu_us_aew_arctic.tar.bz2\n",
    "```\n",
    "\n",
    "とかすればいい。"
   ]
  },
  {
   "cell_type": "markdown",
   "id": "extra-textbook",
   "metadata": {},
   "source": [
    "### ファイルの読み込み"
   ]
  },
  {
   "cell_type": "code",
   "execution_count": null,
   "id": "american-distribution",
   "metadata": {},
   "outputs": [],
   "source": [
    "using FileIO: load, save\n",
    "import LibSndFile\n",
    "\n",
    "filename = joinpath(\"cmu_us_aew_arctic\", \"wav\", \"arctic_a0001.wav\")\n",
    "snd = load(filename)"
   ]
  },
  {
   "cell_type": "code",
   "execution_count": null,
   "id": "republican-australia",
   "metadata": {},
   "outputs": [],
   "source": [
    "using SampledSignals\n",
    "\n",
    "println(\"Sampling Rate: $(snd.samplerate) Hz\")\n",
    "println(\"Number of Frames: $(nframes(snd))\")\n",
    "println(\"Number of Channels: $(nchannels(snd))\")"
   ]
  },
  {
   "cell_type": "markdown",
   "id": "progressive-welsh",
   "metadata": {},
   "source": [
    "### 音声ファイルをグラフ化する"
   ]
  },
  {
   "cell_type": "code",
   "execution_count": null,
   "id": "handmade-bibliography",
   "metadata": {},
   "outputs": [],
   "source": [
    "using Plots\n",
    "pyplot()\n",
    "\n",
    "plot(domain(snd), snd, xlabel=\"Time [sec]\", ylabel=\"Value [-1, +1]\", legend=false, size=(1000,400))\n",
    "savefig(\"wave_form.png\")"
   ]
  },
  {
   "cell_type": "markdown",
   "id": "diverse-template",
   "metadata": {},
   "source": [
    "### 白色雑音"
   ]
  },
  {
   "cell_type": "code",
   "execution_count": null,
   "id": "urban-timeline",
   "metadata": {},
   "outputs": [],
   "source": [
    "n_sample = 40000\n",
    "sample_rate = 16000\n",
    "\n",
    "using Random\n",
    "Random.seed!(0)\n",
    "data = Random.randn(n_sample) * 0.1\n",
    "\n",
    "snd_out = SampleBuf(PCM16Sample.(data), sample_rate)\n",
    "save(\"wgn_wave.wav\", snd_out)"
   ]
  },
  {
   "cell_type": "markdown",
   "id": "hispanic-hawaiian",
   "metadata": {},
   "source": [
    "### 音の再生\n",
    "\n",
    "音の再生には[PortAudio.jl](https://github.com/JuliaAudio/PortAudio.jl)を使う。[ブログにJulia 1.0のときのものを書いた](https://marui.hatenablog.com/entry/2018/09/14/134118)けど、Julia 1.5になっても変更はないみたい。ただしインストール方法は当時と変わっているので、[別のエントリ](https://marui.hatenablog.com/entry/2019/11/03/094818)を参照して次のようにやる。\n",
    "\n",
    "```\n",
    "add https://github.com/JuliaAudio/PortAudio.jl\n",
    "```\n",
    "\n",
    "`PortAudioStream()`は入出力のチャンネル数とオプションでサンプリング周波数などいろいろの設定ができる。必要があればデバイス名を指定してストリームを確保することもできる。下では、入力は0チャンネル、出力は2チャンネルにして、デバイス名の指定はしていない（デフォルトのものが使われるはず）。\n",
    "\n",
    "```julia\n",
    "stream = PortAudiStream()\n",
    "write(stream, sound)\n",
    "close(stream)\n",
    "```\n",
    "\n",
    "という方法もあるけど、どうも`stream`がうまく解放されないみたいなので、以下のように`do`〜`end`を使う。"
   ]
  },
  {
   "cell_type": "code",
   "execution_count": null,
   "id": "sonic-skating",
   "metadata": {},
   "outputs": [],
   "source": [
    "using PortAudio\n",
    "\n",
    "PortAudioStream(0, 2) do stream\n",
    "    println(\"再生開始\")\n",
    "    write(stream, snd)   # デフォルトではブロッキング再生\n",
    "    println(\"再生終了\")\n",
    "end\n"
   ]
  },
  {
   "cell_type": "markdown",
   "id": "combined-tattoo",
   "metadata": {},
   "source": [
    "## 第2節「時間周波数領域への変換」"
   ]
  },
  {
   "cell_type": "markdown",
   "id": "necessary-steps",
   "metadata": {},
   "source": [
    "### 音の録音\n",
    "\n",
    "録音についてもPortAudio.jlを使う。基本的には再生の時と同じ。以下では録音時のサンプリング周波数を指定しているけれど、省略すればデバイスの設定がそのまま使われるはず。"
   ]
  },
  {
   "cell_type": "code",
   "execution_count": null,
   "id": "tribal-samba",
   "metadata": {},
   "outputs": [],
   "source": [
    "wave_length = 5   # seconds\n",
    "sampling_rate = 16000   # Hz\n",
    "\n",
    "PortAudioStream(1, 0, samplerate=sampling_rate) do stream\n",
    "    println(\"録音開始\")\n",
    "    data2 = read(stream, wave_length * sampling_rate)\n",
    "    println(\"録音終了\")\n",
    "    save(\"recorded.wav\", PCM16Sample.(data2 ./ maximum(abs.(data2)) * 0.99))   # save with normalization\n",
    "end"
   ]
  },
  {
   "cell_type": "markdown",
   "id": "numerous-donna",
   "metadata": {},
   "source": [
    "### 窓関数\n",
    "\n",
    "#### ハニング窓\n",
    "\n",
    "$$ w(n) = 0.5 - 0.5\\cos\\left(\\frac{2\\pi n}{N-1}\\right) $$\n",
    "\n",
    "#### ハミング窓\n",
    "\n",
    "$$ w(n) = 0.54 - 0.46\\cos\\left(\\frac{2\\pi n}{N-1}\\right) $$\n",
    "\n",
    "#### 方形窓\n",
    "\n",
    "$$ w(n) = 1 $$\n",
    "\n",
    "\n",
    "以下では図2-9を作る。"
   ]
  },
  {
   "cell_type": "code",
   "execution_count": null,
   "id": "statutory-proposition",
   "metadata": {},
   "outputs": [],
   "source": [
    "using DSP\n",
    "\n",
    "N = 256\n",
    "\n",
    "w_hanning = hanning(N)\n",
    "plot(w_hanning, label=\"Hanning\")\n",
    "\n",
    "w_hamming = hamming(N)\n",
    "plot!(w_hamming, label=\"Hamming\")\n",
    "\n",
    "w_rect = rect(N)\n",
    "plot!(w_rect, label=\"Rectangular\")"
   ]
  },
  {
   "cell_type": "markdown",
   "id": "appointed-architect",
   "metadata": {},
   "source": [
    "### 複素数の四則演算\n",
    "\n",
    "Juliaでは虚数単位を`1im`であらわす。"
   ]
  },
  {
   "cell_type": "code",
   "execution_count": null,
   "id": "unlike-entertainment",
   "metadata": {},
   "outputs": [],
   "source": [
    "z = 1.0 + 2.0im\n",
    "u = 2.0 + 3.0im\n",
    "\n",
    "println(\"z = $z\")\n",
    "println(\"u = $u\")\n",
    "\n",
    "println(\"Real(z) = $(real(z))\")\n",
    "println(\"Imaginary(z) = $(imag(z))\")\n",
    "\n",
    "println(\"z^* = $(conj(z))\")\n",
    "\n",
    "println(\"|z| = $(abs(z))\")\n",
    "\n",
    "v = z + u\n",
    "println(\"z+u = $v\")\n",
    "\n",
    "v = z - u\n",
    "println(\"z-u = $v\")\n",
    "\n",
    "v = z * u\n",
    "println(\"z*u = $v\")\n",
    "\n",
    "v = z / u\n",
    "println(\"z/u = $v\")"
   ]
  },
  {
   "cell_type": "markdown",
   "id": "frozen-growth",
   "metadata": {},
   "source": [
    "### STFTによる短時間フーリエ変換（p.47）\n",
    "\n",
    "Juliaだと`spectrogram`を使うのが簡便。`stft`もあるけど対応する周波数と時間がわからない。`spectrogram`はパワーを返すけれど、`stft`は振幅スペクトルを複素数のままにしておいてくれる。なので、書籍にあるPythonのものと同じ挙動にしようと思うと、以下のようにやるといいんじゃないかな。"
   ]
  },
  {
   "cell_type": "code",
   "execution_count": null,
   "id": "catholic-cartoon",
   "metadata": {},
   "outputs": [],
   "source": [
    "N = 512\n",
    "S = spectrogram(vec(snd.data), N, N÷2; fs=snd.samplerate, window=hanning)\n",
    "f = S.freq\n",
    "t = S.time\n",
    "stft_data = stft(vec(snd.data), N, N÷2; fs=snd.samplerate, window=hanning)\n",
    "\n",
    "println(\"Shape of STFT data: $(size(stft_data))\")\n",
    "println(\"Frequency [Hz]: $f\")\n",
    "println(\"Time [s]: $t\")"
   ]
  },
  {
   "cell_type": "markdown",
   "id": "intellectual-commander",
   "metadata": {},
   "source": [
    "## 第3節「音声を可視化する」\n",
    "\n",
    "matplotlibの`specgram`のかわりに`DSP.spectrogram`と`Plots.heatmap`の組み合わせで描画\n",
    "\n",
    "- Plots.jlのドキュメントは http://docs.juliaplots.org/latest/\n",
    "    - とくにカラーバーの色については http://docs.juliaplots.org/latest/generated/colorschemes/\n",
    "    - `:cividis`がお気に入りだけど、書籍に合わせて`:grays`にしてある\n",
    "- DSP.jlのドキュメントは https://docs.juliadsp.org/stable/contents/"
   ]
  },
  {
   "cell_type": "code",
   "execution_count": null,
   "id": "experimental-integral",
   "metadata": {},
   "outputs": [],
   "source": [
    "heatmap(t, f, 20*log10.(abs.(stft_data)),\n",
    "    xlabel=\"Time (sec)\", ylabel=\"Frequency (Hz)\",\n",
    "    colorbar_entry=true, color=:grays, colorbar_title=\"Intensity (dB)\")"
   ]
  },
  {
   "cell_type": "markdown",
   "id": "interstate-exclusion",
   "metadata": {},
   "source": [
    "## 第4節「音声を時間領域の信号に戻す」\n",
    "\n",
    "`istft`は（いまのところ）DSP.jlには用意されていない。以下にプルリクが出てるんだけどな……\n",
    "\n",
    "- https://github.com/JuliaDSP/DSP.jl/pull/85\n",
    "\n",
    "しょうがないので、効率が悪いコードだけど単純なものを書く。ちゃんともとに戻っていると思う。\n",
    "\n",
    "ここで、他の言語だと見慣れないのが`÷`だと思う。これは整数除算で、剰余についてはゼロに近い方向で切り捨てられる。`/`を使うと浮動小数点数になってしまうので`trunc(Int, N/2)`としないといけなくなる。なので`÷`を使ってる。Juliaでの除算は次のリンク。\n",
    "- https://docs.julialang.org/en/v1/manual/mathematical-operations/#Division-functions"
   ]
  },
  {
   "cell_type": "code",
   "execution_count": null,
   "id": "private-jones",
   "metadata": {},
   "outputs": [],
   "source": [
    "using FFTW\n",
    "\n",
    "N = 512\n",
    "S = spectrogram(vec(snd.data), N, N÷2; fs=snd.samplerate, window=hanning)\n",
    "f = freq(S)\n",
    "t = time(S)\n",
    "stft_data = stft(vec(snd.data), N, N÷2; fs=snd.samplerate, window=hanning)\n",
    "\n",
    "#sig = zeros((N÷2+2)*length(t))\n",
    "sig = zeros(length(snd.data))\n",
    "for n=1:length(t)\n",
    "    x = stft_data[:, n]\n",
    "    xx = [x ; reverse(conj.(x[2:end-1]))]\n",
    "    sig[(n-1)*N÷2+1 : (n+1)*N÷2] .+= real(ifft(xx))\n",
    "end"
   ]
  },
  {
   "cell_type": "code",
   "execution_count": null,
   "id": "handled-validation",
   "metadata": {},
   "outputs": [],
   "source": [
    "snd_out = SampleBuf(PCM16Sample.(sig), snd.samplerate)\n",
    "save(\"istft_post_wave.wav\", snd_out)\n",
    "snd_out"
   ]
  },
  {
   "cell_type": "markdown",
   "id": "accredited-biotechnology",
   "metadata": {},
   "source": [
    "原音と復元音の相関係数もそれなりに高い"
   ]
  },
  {
   "cell_type": "code",
   "execution_count": null,
   "id": "adjacent-worth",
   "metadata": {},
   "outputs": [],
   "source": [
    "using Statistics\n",
    "cor(float(snd.data), sig)"
   ]
  },
  {
   "cell_type": "markdown",
   "id": "stock-monaco",
   "metadata": {},
   "source": [
    "## 第5節「時間周波数領域での音声の加工」"
   ]
  },
  {
   "cell_type": "markdown",
   "id": "civil-antenna",
   "metadata": {},
   "source": [
    "### 特定の周波数を消す（p.54）"
   ]
  },
  {
   "cell_type": "code",
   "execution_count": null,
   "id": "helpful-kingston",
   "metadata": {},
   "outputs": [],
   "source": [
    "stft_data = stft(vec(snd.data), N, N÷2; fs=snd.samplerate, window=hanning)\n",
    "\n",
    "stft_data[100:end, :] .= 0\n",
    "sig = zeros(length(snd.data))\n",
    "for n=1:length(t)\n",
    "    x = stft_data[:, n]\n",
    "    xx = [x ; reverse(conj.(x[2:end-1]))]\n",
    "    sig[(n-1)*N÷2+1 : (n+1)*N÷2] .+= real(ifft(xx))\n",
    "end\n",
    "snd_out = SampleBuf(PCM16Sample.(sig), snd.samplerate)\n",
    "snd_out"
   ]
  },
  {
   "cell_type": "code",
   "execution_count": null,
   "id": "pleasant-murray",
   "metadata": {},
   "outputs": [],
   "source": [
    "heatmap(t, f, 20*log10.(abs.(stft_data)),\n",
    "    xlabel=\"Time (sec)\", ylabel=\"Frequency (Hz)\",\n",
    "    colorbar_entry=true, color=:grays, colorbar_title=\"Intensity (dB)\")"
   ]
  },
  {
   "cell_type": "code",
   "execution_count": null,
   "id": "wireless-bridge",
   "metadata": {},
   "outputs": [],
   "source": [
    "stft_data = stft(vec(snd.data), N, N÷2; fs=snd.samplerate, window=hanning)\n",
    "\n",
    "stft_data[1:50, :] .= 0\n",
    "sig = zeros(length(snd.data))\n",
    "for n=1:length(t)\n",
    "    x = stft_data[:, n]\n",
    "    xx = [x ; reverse(conj.(x[2:end-1]))]\n",
    "    sig[(n-1)*N÷2+1 : (n+1)*N÷2] .+= real(ifft(xx))\n",
    "end\n",
    "snd_out = SampleBuf(PCM16Sample.(sig), snd.samplerate)\n",
    "snd_out"
   ]
  },
  {
   "cell_type": "code",
   "execution_count": null,
   "id": "dutch-sheep",
   "metadata": {},
   "outputs": [],
   "source": [
    "heatmap(t, f, 20*log10.(abs.(stft_data)),\n",
    "    xlabel=\"Time (sec)\", ylabel=\"Frequency (Hz)\",\n",
    "    colorbar_entry=true, color=:grays, colorbar_title=\"Intensity (dB)\")"
   ]
  },
  {
   "cell_type": "markdown",
   "id": "clean-removal",
   "metadata": {},
   "source": [
    "### 背景の雑音を消す（p.56）\n",
    "\n",
    "この本では簡単な説明しかされていないので、ノイズ除去については他の本を参考にするほうがいいみたい。また、ここでは定常ノイズの除去しか説明されていない（あとで残響除去とか出てくるので楽しみ）。ノイズ除去の簡単な紹介はWikipediaにもある。\n",
    "- https://ja.wikipedia.org/wiki/%E9%9F%B3%E5%A3%B0%E5%BC%B7%E8%AA%BF\n",
    "\n",
    "#### スペクトルサブトラクション\n",
    "\n",
    "定常部分のスペクトルをもとに、そのスペクトルのレベルを引き算してしまおうという、ある意味シンプルなアイデア。\n",
    "- https://art-of-life.jp/posts/spectrum-subtraction/"
   ]
  },
  {
   "cell_type": "code",
   "execution_count": null,
   "id": "loose-eugene",
   "metadata": {},
   "outputs": [],
   "source": [
    "speech_signal = vec(snd.data)\n",
    "\n",
    "n_speech = length(speech_signal)   # 音声区間のサンプル数\n",
    "n_noise_only = 40000   # 雑音だけの区間のサンプル数\n",
    "n_sample = n_noise_only + n_speech   # 全体の長さ\n",
    "wgn_signal = randn(n_sample) * 0.04   # 白色雑音\n",
    "\n",
    "mix_signal = wgn_signal\n",
    "mix_signal[n_noise_only+1:end] .+= speech_signal\n",
    "\n",
    "snd_out = SampleBuf(PCM16Sample.(mix_signal), snd.samplerate)\n",
    "save(\"noise_reduction_source.wav\", snd_out)"
   ]
  },
  {
   "cell_type": "code",
   "execution_count": null,
   "id": "sustainable-african",
   "metadata": {},
   "outputs": [],
   "source": [
    "p1 = plot(domain(snd_out), snd_out, legend=false,\n",
    "    xlabel=\"Time (sec)\", ylabel=\"Amplitude\")\n",
    "\n",
    "N = 512\n",
    "S = spectrogram(vec(snd_out.data), N, N÷2; fs=snd_out.samplerate, window=hanning)\n",
    "f = freq(S)\n",
    "t = time(S)\n",
    "stft_data = stft(vec(snd_out.data), N, N÷2; fs=snd_out.samplerate, window=hanning)\n",
    "p2 = heatmap(t, f, 20*log10.(abs.(stft_data)),\n",
    "    xlabel=\"Time (sec)\", ylabel=\"Frequency (Hz)\",\n",
    "    colorbar_entry=true, color=:grays, colorbar_title=\"Intensity (dB)\")\n",
    "\n",
    "plot(p1, p2, layout=(2,1), size=(720, 480))"
   ]
  },
  {
   "cell_type": "code",
   "execution_count": null,
   "id": "useful-bachelor",
   "metadata": {},
   "outputs": [],
   "source": [
    "# 短時間フーリエ変換\n",
    "N = 512\n",
    "S = spectrogram(mix_signal, N, N÷2; fs=snd.samplerate, window=hanning)\n",
    "f = freq(S)\n",
    "t = time(S)\n",
    "stft_data = stft(mix_signal, N, N÷2; fs=snd.samplerate, window=hanning)\n",
    "\n",
    "# 振幅と位相を取得（位相角ではなく複素数のままにしておく）\n",
    "amp = abs.(stft_data)\n",
    "phase = stft_data / maximum(amp)\n",
    "n_noise_only_frame = sum(t .< n_noise_only / snd.samplerate)\n",
    "# スペクトルサブトラクションのパラメータ\n",
    "p = 1.0\n",
    "alpha = 2.0\n",
    "\n",
    "# 雑音の振幅を推定\n",
    "noise_amp = repeat(mean((amp .^ p)[:, 1:n_noise_only_frame], dims=2) .^ (1/2), 1, size(amp,2))\n",
    "\n",
    "# 出力信号を計算\n",
    "eps = 0.01 * amp .^ p\n",
    "processed_amp = max.((amp .^ p) .- alpha .* (noise_amp .^ p), eps) .^ (1/p)\n",
    "prpcessed_stft_data = processed_amp .* phase\n",
    "\n",
    "# 時間領域の波形に戻す\n",
    "sig = zeros(length(mix_signal))\n",
    "for n=1:length(t)\n",
    "    x = prpcessed_stft_data[:, n]\n",
    "    xx = [x ; reverse(conj.(x[2:end-1]))]\n",
    "    sig[(n-1)*N÷2+1 : (n+1)*N÷2] .+= real(ifft(xx))\n",
    "end\n",
    "snd_out = SampleBuf(PCM16Sample.(sig), snd.samplerate)\n",
    "save(\"noise_reduction_spectrum_subtraction.wav\", snd_out)"
   ]
  },
  {
   "cell_type": "code",
   "execution_count": null,
   "id": "protected-pencil",
   "metadata": {},
   "outputs": [],
   "source": [
    "p1 = plot(domain(snd_out), snd_out, legend=false,\n",
    "    xlabel=\"Time (sec)\", ylabel=\"Amplitude\")\n",
    "\n",
    "N = 512\n",
    "S = spectrogram(vec(snd_out.data), N, N÷2; fs=snd_out.samplerate, window=hanning)\n",
    "f = freq(S)\n",
    "t = time(S)\n",
    "stft_data = stft(vec(snd_out.data), N, N÷2; fs=snd_out.samplerate, window=hanning)\n",
    "p2 = heatmap(t, f, 20*log10.(abs.(stft_data)),\n",
    "    xlabel=\"Time (sec)\", ylabel=\"Frequency (Hz)\",\n",
    "    colorbar_entry=true, color=:grays, colorbar_title=\"Intensity (dB)\")\n",
    "\n",
    "plot(p1, p2, layout=(2,1), size=(720, 480))"
   ]
  },
  {
   "cell_type": "markdown",
   "id": "recent-intent",
   "metadata": {},
   "source": [
    "#### ウィナーフィルタ（p.60）\n",
    "\n",
    "学生のときに画像処理の授業でノイズ除去を勉強したはずなのに、すっかり頭から消えている。書籍中で数式の導出については説明されていないので、次の解説なんかを読む。\n",
    "- http://www.allisone.co.jp/html/Notes/DSP/Filter/Wiener-filter/index.html\n",
    "- http://www.ieice-hbkb.org/files/01/01gun_05hen_05m.pdf"
   ]
  },
  {
   "cell_type": "code",
   "execution_count": null,
   "id": "three-brazil",
   "metadata": {},
   "outputs": [],
   "source": [
    "# 短時間フーリエ変換\n",
    "N = 512\n",
    "S = spectrogram(mix_signal, N, N÷2; fs=snd.samplerate, window=hanning)\n",
    "f = freq(S)\n",
    "t = time(S)\n",
    "stft_data = stft(mix_signal, N, N÷2; fs=snd.samplerate, window=hanning)\n",
    "\n",
    "# 入力信号のパワー\n",
    "amp = abs.(stft_data)\n",
    "input_power = amp .^ 2\n",
    "\n",
    "n_noise_only_frame = sum(t .< n_noise_only / snd.samplerate)\n",
    "\n",
    "# ウィナーフィルタのパラメータ\n",
    "alpha = 2.0\n",
    "mu = 10\n",
    "\n",
    "# 雑音のパワーを推定\n",
    "noise_power = repeat(mean((amp .^ 2)[:, 1:n_noise_only_frame], dims=2), 1, size(amp,2))\n",
    "\n",
    "# 出力信号を計算\n",
    "eps = 0.01 * input_power\n",
    "processed_power = max.(input_power .- alpha * noise_power, eps)\n",
    "wf_ratio = processed_power ./ (processed_power .+ mu * noise_power)\n",
    "processed_stft_data = wf_ratio .* stft_data\n",
    "\n",
    "# 時間領域の波形に戻す\n",
    "sig = zeros(length(mix_signal))\n",
    "for n=1:length(t)\n",
    "    x = prpcessed_stft_data[:, n]\n",
    "    xx = [x ; reverse(conj.(x[2:end-1]))]\n",
    "    sig[(n-1)*N÷2+1 : (n+1)*N÷2] .+= real(ifft(xx))\n",
    "end\n",
    "snd_out = SampleBuf(PCM16Sample.(sig), snd.samplerate)\n",
    "save(\"noise_reduction_wiener.wav\", snd_out)"
   ]
  },
  {
   "cell_type": "code",
   "execution_count": null,
   "id": "other-metallic",
   "metadata": {},
   "outputs": [],
   "source": [
    "p1 = plot(domain(snd_out), snd_out, legend=false,\n",
    "    xlabel=\"Time (sec)\", ylabel=\"Amplitude\")\n",
    "\n",
    "N = 512\n",
    "S = spectrogram(vec(snd_out.data), N, N÷2; fs=snd_out.samplerate, window=hanning)\n",
    "f = freq(S)\n",
    "t = time(S)\n",
    "stft_data = stft(vec(snd_out.data), N, N÷2; fs=snd_out.samplerate, window=hanning)\n",
    "p2 = heatmap(t, f, 20*log10.(abs.(stft_data)),\n",
    "    xlabel=\"Time (sec)\", ylabel=\"Frequency (Hz)\",\n",
    "    colorbar_entry=true, color=:grays, colorbar_title=\"Intensity (dB)\")\n",
    "\n",
    "plot(p1, p2, layout=(2,1), size=(720, 480))"
   ]
  }
 ],
 "metadata": {
  "kernelspec": {
   "display_name": "Julia 1.6.0",
   "language": "julia",
   "name": "julia-1.6"
  },
  "language_info": {
   "file_extension": ".jl",
   "mimetype": "application/julia",
   "name": "julia",
   "version": "1.5.3"
  },
  "nteract": {
   "version": "0.22.0"
  }
 },
 "nbformat": 4,
 "nbformat_minor": 5
}
