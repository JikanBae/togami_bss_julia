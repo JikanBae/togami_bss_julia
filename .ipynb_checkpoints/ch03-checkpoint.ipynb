{
 "cells": [
  {
   "cell_type": "markdown",
   "id": "scheduled-millennium",
   "metadata": {},
   "source": [
    "戸上真人「Pythonで学ぶ音源分離」https://amzn.to/3pRqvII をJuliaでやっていく\n",
    "\n",
    "# 第3章「音源分離で用いられる数学的知識の基礎」"
   ]
  },
  {
   "cell_type": "code",
   "execution_count": 1,
   "id": "incredible-computer",
   "metadata": {},
   "outputs": [
    {
     "name": "stdout",
     "output_type": "stream",
     "text": [
      "Julia Version 1.5.3\n",
      "Commit 788b2c77c1 (2020-11-09 13:37 UTC)\n",
      "Platform Info:\n",
      "  OS: macOS (x86_64-apple-darwin18.7.0)\n",
      "  CPU: Intel(R) Core(TM) i7-7920HQ CPU @ 3.10GHz\n",
      "  WORD_SIZE: 64\n",
      "  LIBM: libopenlibm\n",
      "  LLVM: libLLVM-9.0.1 (ORCJIT, skylake)\n"
     ]
    }
   ],
   "source": [
    "versioninfo()"
   ]
  },
  {
   "cell_type": "markdown",
   "id": "fifty-survivor",
   "metadata": {},
   "source": [
    "## 第1節 音源分離で用いる線形代数\n",
    "\n",
    "### 行列の基本的な演算（p.67）\n",
    "\n",
    "行列（Matrix）は配列（Array）の一種なのでドキュメントは配列のところか、線形代数の標準パッケージを見るといいかも\n",
    "- https://docs.julialang.org/en/v1/base/arrays\n",
    "- https://docs.julialang.org/en/v1/stdlib/LinearAlgebra/\n",
    "\n",
    "他の言語とJuliaとの違いについては公式サイトの次のリンクがうれしい\n",
    "- https://docs.julialang.org/en/v1/manual/noteworthy-differences/"
   ]
  },
  {
   "cell_type": "code",
   "execution_count": 2,
   "id": "extensive-julian",
   "metadata": {},
   "outputs": [
    {
     "data": {
      "text/plain": [
       "2×3 Array{Int64,2}:\n",
       " 3  1  2\n",
       " 2  3  1"
      ]
     },
     "execution_count": 2,
     "metadata": {},
     "output_type": "execute_result"
    }
   ],
   "source": [
    "# 行列を作る\n",
    "A = [3 1 2\n",
    "     2 3 1]"
   ]
  },
  {
   "cell_type": "code",
   "execution_count": 3,
   "id": "satisfied-script",
   "metadata": {},
   "outputs": [
    {
     "name": "stdout",
     "output_type": "stream",
     "text": [
      "size of the matrix: (2, 3)\n",
      "A = [3 1 2; 2 3 1]\n"
     ]
    }
   ],
   "source": [
    "# 行列の大きさ・行列の表示\n",
    "println(\"size of the matrix: $(size(A))\")\n",
    "println(\"A = $A\")"
   ]
  },
  {
   "cell_type": "code",
   "execution_count": 4,
   "id": "numerous-myanmar",
   "metadata": {},
   "outputs": [
    {
     "name": "stdout",
     "output_type": "stream",
     "text": [
      "cA = [6 2 4; 4 6 2]\n"
     ]
    }
   ],
   "source": [
    "# スカラー積\n",
    "c = 2\n",
    "println(\"cA = $(c * A)\")"
   ]
  },
  {
   "cell_type": "code",
   "execution_count": 5,
   "id": "competent-intelligence",
   "metadata": {},
   "outputs": [
    {
     "name": "stdout",
     "output_type": "stream",
     "text": [
      "A+B = [2 3 6; 3 11 7]\n"
     ]
    }
   ],
   "source": [
    "# 和\n",
    "B = [-1 2 4\n",
    "      1 8 6]\n",
    "println(\"A+B = $(A+B)\")"
   ]
  },
  {
   "cell_type": "code",
   "execution_count": 6,
   "id": "sharing-performer",
   "metadata": {},
   "outputs": [
    {
     "name": "stdout",
     "output_type": "stream",
     "text": [
      "AB = [13 19; 6 18]\n"
     ]
    }
   ],
   "source": [
    "# 積\n",
    "B = [ 4 2\n",
    "     -1 3\n",
    "      1 5]\n",
    "println(\"AB = $(A*B)\")"
   ]
  },
  {
   "cell_type": "code",
   "execution_count": 7,
   "id": "velvet-exclusion",
   "metadata": {},
   "outputs": [
    {
     "name": "stdout",
     "output_type": "stream",
     "text": [
      "A⊙B = [-3 2 8; 2 24 6]\n"
     ]
    }
   ],
   "source": [
    "# アダマール積（要素ごとの積）\n",
    "B = [-1 2 4\n",
    "      1 8 6]\n",
    "println(\"A⊙B = $(A.*B)\")"
   ]
  },
  {
   "cell_type": "code",
   "execution_count": 8,
   "id": "potential-utilization",
   "metadata": {},
   "outputs": [
    {
     "name": "stdout",
     "output_type": "stream",
     "text": [
      "A^T = [3 2; 1 3; 2 1]\n",
      "A^T = [3 2; 1 3; 2 1]\n",
      "A^T = [3 2; 1 3; 2 1]\n"
     ]
    }
   ],
   "source": [
    "# 行列の転置\n",
    "println(\"A^T = $(A')\")   # 複素数だとエルミート転置（随伴行列）になるので注意\n",
    "println(\"A^T = $(transpose(A))\")\n",
    "println(\"A^T = $(permutedims(A, [2 1]))\")   # swapaxesの代わり"
   ]
  },
  {
   "cell_type": "code",
   "execution_count": 9,
   "id": "brazilian-discovery",
   "metadata": {},
   "outputs": [
    {
     "name": "stdout",
     "output_type": "stream",
     "text": [
      "A^H = Complex{Int64}[3 + 0im 2 + 0im; 1 - 2im 3 + 4im; 2 - 3im 1 - 3im]\n",
      "A^H = Complex{Int64}[3 + 0im 2 + 0im; 1 - 2im 3 + 4im; 2 - 3im 1 - 3im]\n"
     ]
    }
   ],
   "source": [
    "# エルミート転置（随伴行列）\n",
    "A = [3+0im  1+2im  2+3im\n",
    "     2+0im  3-4im  1+3im]\n",
    "println(\"A^H = $(A')\")\n",
    "println(\"A^H = $(adjoint(A))\")"
   ]
  },
  {
   "cell_type": "code",
   "execution_count": 10,
   "id": "metallic-farming",
   "metadata": {},
   "outputs": [
    {
     "name": "stdout",
     "output_type": "stream",
     "text": [
      "(AB)^H = Complex{Int64}[2 - 20im 1 - 21im; 8 - 38im -5 - 8im]\n",
      "B^H A^H = Complex{Int64}[2 - 20im 1 - 21im; 8 - 38im -5 - 8im]\n"
     ]
    }
   ],
   "source": [
    "# 行列の積に対するエルミート転置\n",
    "A = [3+0im  1+2im  2+3im\n",
    "     2+0im  3-4im  1+3im]\n",
    "B = [4+4im  2+3im\n",
    "    -1+1im  3-2im\n",
    "     1+3im  5+5im]\n",
    "println(\"(AB)^H = $((A*B)')\")\n",
    "println(\"B^H A^H = $(B' * A')\")"
   ]
  },
  {
   "cell_type": "code",
   "execution_count": 11,
   "id": "composite-geography",
   "metadata": {},
   "outputs": [
    {
     "name": "stdout",
     "output_type": "stream",
     "text": [
      "I = Bool[1 0 0; 0 1 0; 0 0 1]\n",
      "I = [1.0 0.0 0.0; 0.0 1.0 0.0; 0.0 0.0 1.0]\n"
     ]
    }
   ],
   "source": [
    "# 単位行列\n",
    "using LinearAlgebra\n",
    "println(\"I = $(I(3))\")\n",
    "X = Matrix{Float64}(I, 3, 3)   # 型指定をするときにはこういう方法も\n",
    "println(\"I = $(X)\")"
   ]
  },
  {
   "cell_type": "markdown",
   "id": "invalid-journalist",
   "metadata": {},
   "source": [
    "Juliaには`rot180`、`rotl90`、`rotr90`といった行列を回転させる関数も用意されているので、画像処理をするときに便利かもしれない。\n",
    "\n",
    "アインシュタインの縮約記法（numpyの`einsum`）はEinsum.jlというパッケージを入れれば実現できる。\n",
    "- https://github.com/ahwillia/Einsum.jl\n",
    "\n",
    "まずは\n",
    "\n",
    "```julia\n",
    "pkg> add Einsum\n",
    "```\n",
    "\n",
    "でパッケージをインストールしておく。実行には`@einsum`マクロを使う。結果の行列を新しく作るときには`:=`で、もともとある行列への上書きであれば`=`にする。今回は前者。"
   ]
  },
  {
   "cell_type": "code",
   "execution_count": 12,
   "id": "cathedral-stability",
   "metadata": {},
   "outputs": [
    {
     "name": "stdout",
     "output_type": "stream",
     "text": [
      "AB = [13 19; 6 18]\n"
     ]
    }
   ],
   "source": [
    "using Einsum\n",
    "A = [3 1 2\n",
    "     2 3 1]\n",
    "B = [ 4 2\n",
    "     -1 3\n",
    "      1 5]\n",
    "@einsum C[m, n] := A[m, k] * B[k, n]\n",
    "\n",
    "println(\"AB = $(@einsum C[m, n] := A[m, k] * B[k, n])\")"
   ]
  },
  {
   "cell_type": "markdown",
   "id": "agricultural-bullet",
   "metadata": {},
   "source": [
    "numpyの`einsum`よりも数式に近くて直感的な気がする。\n",
    "\n",
    "マクロなので、何が起きているのかを見たければ`@macroexpand`で覗くことができる。（実行結果は省略）\n",
    "\n",
    "```julia\n",
    "@macroexpand @einsum C[m, n] := A[m, k] * B[k, n]\n",
    "```\n",
    "\n",
    "### アインシュタインの縮約記法を用いたテンソル計算（p.71）"
   ]
  },
  {
   "cell_type": "code",
   "execution_count": 13,
   "id": "passing-garage",
   "metadata": {},
   "outputs": [
    {
     "data": {
      "text/plain": [
       "5×3×3 Array{Complex{Float64},3}:\n",
       "[:, :, 1] =\n",
       "  0.147976+0.954754im  0.00727965+0.666255im  0.197326+0.387483im\n",
       "  0.176277+0.454864im     0.23718+0.506862im  0.525695+0.964492im\n",
       " 0.0450598+0.671545im   0.0261147+0.583576im  0.150151+0.498499im\n",
       "  0.107693+0.105693im    0.113192+0.252215im  0.842739+0.582479im\n",
       "  0.766978+0.530588im    0.452783+0.218204im  0.289268+0.127691im\n",
       "\n",
       "[:, :, 2] =\n",
       " 0.777691+0.133133im   0.318873+0.976239im  0.342481+0.223719im\n",
       " 0.999202+0.770051im   0.151057+0.096452im  0.173517+0.962207im\n",
       " 0.732105+0.0611731im  0.349859+0.115407im  0.935676+0.585847im\n",
       " 0.866026+0.278388im    0.78054+0.26654im   0.416783+0.613683im\n",
       "  0.89127+0.218322im   0.935379+0.679839im  0.695759+0.908961im\n",
       "\n",
       "[:, :, 3] =\n",
       "  0.960876+0.719184im  0.659973+0.207739im   0.255037+0.222186im\n",
       " 0.0269988+0.201307im  0.784438+0.873917im   0.789986+0.110189im\n",
       "  0.291065+0.636779im    0.6848+0.350624im  0.0250795+0.0431595im\n",
       "  0.377485+0.881304im  0.170158+0.197977im    0.23078+0.929219im\n",
       "  0.682638+0.119075im  0.223487+0.727095im   0.853591+0.13498im"
      ]
     },
     "execution_count": 13,
     "metadata": {},
     "output_type": "execute_result"
    }
   ],
   "source": [
    "using Random\n",
    "Random.seed!(0)\n",
    "\n",
    "L = 10\n",
    "K = 5\n",
    "M = 3\n",
    "R = 3\n",
    "N = 3\n",
    "\n",
    "# 行列の準備\n",
    "A = rand(L, K, M, R) .+ rand(L, K, M, R) * 1im\n",
    "B = rand(K, R, N) .+ rand(K, R, N) * 1im"
   ]
  },
  {
   "cell_type": "code",
   "execution_count": 14,
   "id": "convenient-brighton",
   "metadata": {},
   "outputs": [
    {
     "name": "stdout",
     "output_type": "stream",
     "text": [
      "size(C): (10, 5, 3, 3)\n",
      "A(1,1)B(1,1) = Complex{Float64}[0.08519151565727716 + 1.028382544479421im 0.6841821945018695 + 0.4063384181585944im 0.9468965370847114 + 0.7712941245620732im; -0.4274032034508901 + 1.1323536450340144im 0.13347465647911683 + 1.4375618614587888im 0.6420341784093513 + 0.8057766208887016im; -0.5046213323412478 + 1.3753361976565792im 0.6959288784853086 + 1.1851455333128402im 0.5451961865159336 + 1.545106781292947im]\n",
      "C(1,1) = Complex{Float64}[0.08519151565727716 + 1.028382544479421im 0.6841821945018695 + 0.4063384181585944im 0.9468965370847114 + 0.7712941245620732im; -0.4274032034508901 + 1.1323536450340144im 0.13347465647911683 + 1.4375618614587888im 0.6420341784093513 + 0.8057766208887016im; -0.5046213323412478 + 1.3753361976565792im 0.6959288784853086 + 1.1851455333128402im 0.5451961865159336 + 1.545106781292947im]\n"
     ]
    }
   ],
   "source": [
    "# アインシュタインの縮約記法での行列積\n",
    "@einsum C[l,k,m,n] := A[l,k,m,r] * B[k,r,n]\n",
    "println(\"size(C): $(size(C))\")\n",
    "\n",
    "# l=1、k=1について検算\n",
    "println(\"A(1,1)B(1,1) = $(A[1,1,:,:] * B[1,:,:])\")\n",
    "println(\"C(1,1) = $(C[1,1,:,:])\")"
   ]
  },
  {
   "cell_type": "code",
   "execution_count": 15,
   "id": "biological-electronics",
   "metadata": {},
   "outputs": [
    {
     "name": "stdout",
     "output_type": "stream",
     "text": [
      "size(C): (5, 3, 3)\n",
      "C_2(1) = Complex{Float64}[-5.862491672146529 + 9.647132037906514im 0.8803223314751973 + 11.10141687938723im 3.878284908737599 + 11.77750756197981im; -8.273438421296428 + 13.569978907707453im 1.950558482631744 + 15.266004756830288im 5.215925456974465 + 16.08338092415706im; -7.242953190598838 + 11.720011898592752im 1.694357543835014 + 13.538314276703987im 3.46493682809629 + 14.660736722891214im]\n",
      "C(1) = Complex{Float64}[-5.86249167214653 + 9.647132037906514im 0.8803223314751971 + 11.101416879387228im 3.878284908737599 + 11.77750756197981im; -8.27343842129643 + 13.569978907707455im 1.950558482631744 + 15.26600475683029im 5.215925456974465 + 16.08338092415706im; -7.242953190598836 + 11.720011898592752im 1.694357543835014 + 13.538314276703987im 3.4649368280962896 + 14.66073672289121im]\n"
     ]
    }
   ],
   "source": [
    "# 行列積をl、kごとに計算したあと、1方向に和をとる\n",
    "@einsum C[k,m,n] := A[l,k,m,r] * B[k,r,n]\n",
    "println(\"size(C): $(size(C))\")\n",
    "\n",
    "# k=1について検算\n",
    "C_2 = A[1,1,:,:] * B[1,:,:]\n",
    "for l in 2:L\n",
    "    C_2 += A[l,1,:,:] * B[1,:,:]\n",
    "end\n",
    "println(\"C_2(1) = $(C_2)\")\n",
    "println(\"C(1) = $(C[1,:,:])\")"
   ]
  },
  {
   "cell_type": "code",
   "execution_count": 16,
   "id": "vietnamese-label",
   "metadata": {},
   "outputs": [
    {
     "name": "stdout",
     "output_type": "stream",
     "text": [
      "size(C): (10, 5, 3, 3)\n",
      "A(1,1).*B(1,1) = Complex{Float64}[0.12016706455109111 + 0.7866463453678985im 0.13301098230011382 + 0.09798481734242734im 0.20686922048424608 + 0.25623053081928887im; -0.008516190506050085 + 0.1309660707563912im 0.08834848131235126 + 1.0201974871449235im 0.0015297093434845088 + 0.6664442481778317im; -0.1042379648936248 + 0.4017825881649155im 0.056638242043394675 + 0.09475188703988718im 0.17820374246790424 + 0.2946268520431004im]\n",
      "C(1,1) = Complex{Float64}[0.12016706455109111 + 0.7866463453678985im 0.13301098230011382 + 0.09798481734242734im 0.20686922048424608 + 0.25623053081928887im; -0.008516190506050085 + 0.1309660707563912im 0.08834848131235126 + 1.0201974871449235im 0.0015297093434845088 + 0.6664442481778317im; -0.1042379648936248 + 0.4017825881649155im 0.056638242043394675 + 0.09475188703988718im 0.17820374246790424 + 0.2946268520431004im]\n"
     ]
    }
   ],
   "source": [
    "# 縮約記法でのアダマール積\n",
    "@einsum C[l,k,m,n] := A[l,k,m,n] * B[k,m,n]\n",
    "println(\"size(C): $(size(C))\")\n",
    "\n",
    "# 検算\n",
    "println(\"A(1,1).*B(1,1) = $(A[1,1,:,:] .* B[1,:,:])\")\n",
    "println(\"C(1,1) = $(C[1,1,:,:])\")"
   ]
  },
  {
   "cell_type": "markdown",
   "id": "charitable-miracle",
   "metadata": {},
   "source": [
    "## 第2節 逆行列"
   ]
  },
  {
   "cell_type": "code",
   "execution_count": null,
   "id": "painful-charles",
   "metadata": {},
   "outputs": [],
   "source": []
  },
  {
   "cell_type": "markdown",
   "id": "virgin-anime",
   "metadata": {},
   "source": [
    "## 第3節 ベクトル・行列の微分"
   ]
  },
  {
   "cell_type": "code",
   "execution_count": null,
   "id": "challenging-floor",
   "metadata": {},
   "outputs": [],
   "source": []
  },
  {
   "cell_type": "markdown",
   "id": "electrical-quarterly",
   "metadata": {},
   "source": [
    "## 第4節 確率・統計の基礎知識"
   ]
  },
  {
   "cell_type": "code",
   "execution_count": null,
   "id": "effective-inclusion",
   "metadata": {},
   "outputs": [],
   "source": []
  }
 ],
 "metadata": {
  "kernelspec": {
   "display_name": "Julia 1.5.3",
   "language": "julia",
   "name": "julia-1.5"
  },
  "language_info": {
   "file_extension": ".jl",
   "mimetype": "application/julia",
   "name": "julia",
   "version": "1.5.3"
  }
 },
 "nbformat": 4,
 "nbformat_minor": 5
}
