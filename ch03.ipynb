{
 "cells": [
  {
   "cell_type": "markdown",
   "id": "neutral-converter",
   "metadata": {},
   "source": [
    "戸上真人「Pythonで学ぶ音源分離」https://amzn.to/3pRqvII をJuliaでやっていく\n",
    "\n",
    "# 第3章「音源分離で用いられる数学的知識の基礎」"
   ]
  },
  {
   "cell_type": "code",
   "execution_count": 1,
   "id": "convinced-brown",
   "metadata": {},
   "outputs": [
    {
     "name": "stdout",
     "output_type": "stream",
     "text": [
      "Julia Version 1.5.3\n",
      "Commit 788b2c77c1 (2020-11-09 13:37 UTC)\n",
      "Platform Info:\n",
      "  OS: Windows (x86_64-w64-mingw32)\n",
      "  CPU: Intel(R) Core(TM) i5-10400 CPU @ 2.90GHz\n",
      "  WORD_SIZE: 64\n",
      "  LIBM: libopenlibm\n",
      "  LLVM: libLLVM-9.0.1 (ORCJIT, skylake)\n",
      "Environment:\n",
      "  JULIA_EDITOR = \"C:\\Users\\marui\\AppData\\Local\\Programs\\Microsoft VS Code\\Code.exe\"\n",
      "  JULIA_NUM_THREADS = \n"
     ]
    }
   ],
   "source": [
    "versioninfo()"
   ]
  },
  {
   "cell_type": "markdown",
   "id": "mathematical-publicity",
   "metadata": {},
   "source": [
    "## 第1節 音源分離で用いる線形代数\n",
    "\n",
    "### 行列の基本的な演算（p.67）\n",
    "\n",
    "行列（Matrix）は配列（Array）の一種なのでドキュメントは配列のところか、線形代数の標準パッケージを見るといいかも\n",
    "- https://docs.julialang.org/en/v1/base/arrays\n",
    "- https://docs.julialang.org/en/v1/stdlib/LinearAlgebra/\n",
    "\n",
    "他の言語とJuliaとの違いについては公式サイトの次のリンクがうれしい\n",
    "- https://docs.julialang.org/en/v1/manual/noteworthy-differences/"
   ]
  },
  {
   "cell_type": "code",
   "execution_count": 2,
   "id": "defensive-adventure",
   "metadata": {},
   "outputs": [
    {
     "name": "stdout",
     "output_type": "stream",
     "text": [
      "size of the matrix: (2, 3)\n",
      "A = [3 1 2; 2 3 1]\n",
      "cA = [6 2 4; 4 6 2]\n",
      "A+B = [2 3 6; 3 11 7]\n",
      "AB = [13 19; 6 18]\n",
      "A*B = [-3 2 8; 2 24 6]\n",
      "A^T = [3 2; 1 3; 2 1]\n",
      "A^T = [3 2; 1 3; 2 1]\n",
      "A^T = [3 2; 1 3; 2 1]\n",
      "A^H = Complex{Int64}[3 + 0im 2 + 0im; 1 - 2im 3 + 4im; 2 - 3im 1 - 3im]\n",
      "A^H = Complex{Int64}[3 + 0im 2 + 0im; 1 - 2im 3 + 4im; 2 - 3im 1 - 3im]\n",
      "(AB)^H = Complex{Int64}[2 - 20im 1 - 21im; 8 - 38im -5 - 8im]\n",
      "B^H A^H = Complex{Int64}[2 - 20im 1 - 21im; 8 - 38im -5 - 8im]\n",
      "I = Bool[1 0 0; 0 1 0; 0 0 1]\n",
      "I = [1.0 0.0 0.0; 0.0 1.0 0.0; 0.0 0.0 1.0]\n"
     ]
    }
   ],
   "source": [
    "# 行列を作る\n",
    "A = [3 1 2\n",
    "     2 3 1]\n",
    "\n",
    "# 行列の大きさ・行列の表示\n",
    "println(\"size of the matrix: $(size(A))\")\n",
    "println(\"A = $A\")\n",
    "\n",
    "# スカラー積\n",
    "c = 2\n",
    "println(\"cA = $(c * A)\")\n",
    "\n",
    "# 和\n",
    "B = [-1 2 4\n",
    "      1 8 6]\n",
    "println(\"A+B = $(A+B)\")\n",
    "\n",
    "# 積\n",
    "B = [ 4 2\n",
    "     -1 3\n",
    "      1 5]\n",
    "println(\"AB = $(A*B)\")\n",
    "\n",
    "# アダマール積（要素ごとの積）\n",
    "B = [-1 2 4\n",
    "      1 8 6]\n",
    "println(\"A*B = $(A.*B)\")\n",
    "\n",
    "# 行列の転置\n",
    "println(\"A^T = $(A')\")   # 複素数だとエルミート転置（随伴行列）になるので注意\n",
    "println(\"A^T = $(transpose(A))\")\n",
    "println(\"A^T = $(permutedims(A, [2 1]))\")   # swapaxesの代わり\n",
    "\n",
    "# エルミート転置（随伴行列）\n",
    "A = [3+0im  1+2im  2+3im\n",
    "     2+0im  3-4im  1+3im]\n",
    "println(\"A^H = $(A')\")\n",
    "println(\"A^H = $(adjoint(A))\")\n",
    "\n",
    "# 行列の積に対するエルミート転置\n",
    "A = [3+0im  1+2im  2+3im\n",
    "     2+0im  3-4im  1+3im]\n",
    "B = [4+4im  2+3im\n",
    "    -1+1im  3-2im\n",
    "     1+3im  5+5im]\n",
    "println(\"(AB)^H = $((A*B)')\")\n",
    "println(\"B^H A^H = $(B' * A')\")\n",
    "\n",
    "# 単位行列\n",
    "using LinearAlgebra\n",
    "println(\"I = $(I(3))\")\n",
    "X = Matrix{Float64}(I, 3, 3)   # 型指定をするときにはこういう方法も\n",
    "println(\"I = $(X)\")"
   ]
  },
  {
   "cell_type": "markdown",
   "id": "provincial-arbor",
   "metadata": {},
   "source": [
    "Juliaには`rot180`、`rotl90`、`rotr90`といった行列を回転させる関数も用意されているので、画像処理をするときに便利かもしれない。\n",
    "\n",
    "アインシュタインの縮約記法（numpyの`einsum`）はEinsum.jlというパッケージを入れれば実現できる。\n",
    "- https://github.com/ahwillia/Einsum.jl\n",
    "\n",
    "まずは\n",
    "\n",
    "```julia\n",
    "pkg> add Einsum\n",
    "```\n",
    "\n",
    "でパッケージをインストールしておく。実行には`@einsum`マクロを使う。結果の行列を新しく作るときには`:=`で、もともとある行列への上書きであれば`=`にする。今回は前者。"
   ]
  },
  {
   "cell_type": "code",
   "execution_count": 3,
   "id": "interracial-disability",
   "metadata": {},
   "outputs": [
    {
     "name": "stdout",
     "output_type": "stream",
     "text": [
      "AB = [13 19; 6 18]\n"
     ]
    }
   ],
   "source": [
    "using Einsum\n",
    "A = [3 1 2\n",
    "     2 3 1]\n",
    "B = [ 4 2\n",
    "     -1 3\n",
    "      1 5]\n",
    "@einsum C[m, n] := A[m, k] * B[k, n]\n",
    "\n",
    "println(\"AB = $(@einsum C[m, n] := A[m, k] * B[k, n])\")"
   ]
  },
  {
   "cell_type": "markdown",
   "id": "driving-plant",
   "metadata": {},
   "source": [
    "numpyの`einsum`よりも数式に近くて直感的な気がする。\n",
    "\n",
    "マクロなので、何が起きているのかを見たければ`@macroexpand`で覗くことができる。（実行結果は省略）\n",
    "\n",
    "```julia\n",
    "@macroexpand @einsum C[m, n] := A[m, k] * B[k, n]\n",
    "```\n",
    "\n",
    "### アインシュタインの縮約記法を用いたテンソル計算（p.71）"
   ]
  },
  {
   "cell_type": "code",
   "execution_count": 4,
   "id": "selective-mitchell",
   "metadata": {},
   "outputs": [
    {
     "name": "stdout",
     "output_type": "stream",
     "text": [
      "size(C): (10, 5, 3, 3)\n",
      "A(1,1)B(1,1) = Complex{Float64}[0.08519151565727716 + 1.028382544479421im 0.6841821945018695 + 0.4063384181585944im 0.9468965370847114 + 0.7712941245620732im; -0.4274032034508901 + 1.1323536450340144im 0.13347465647911683 + 1.4375618614587888im 0.6420341784093513 + 0.8057766208887016im; -0.5046213323412478 + 1.3753361976565792im 0.6959288784853086 + 1.1851455333128402im 0.5451961865159336 + 1.545106781292947im]\n",
      "C(1,1) = Complex{Float64}[0.08519151565727716 + 1.028382544479421im 0.6841821945018695 + 0.4063384181585944im 0.9468965370847114 + 0.7712941245620732im; -0.4274032034508901 + 1.1323536450340144im 0.13347465647911683 + 1.4375618614587888im 0.6420341784093513 + 0.8057766208887016im; -0.5046213323412478 + 1.3753361976565792im 0.6959288784853086 + 1.1851455333128402im 0.5451961865159336 + 1.545106781292947im]\n",
      "size(C): (5, 3, 3)\n",
      "C_2(1) = Complex{Float64}[-5.862491672146529 + 9.647132037906514im 0.8803223314751973 + 11.10141687938723im 3.878284908737599 + 11.77750756197981im; -8.273438421296428 + 13.569978907707453im 1.950558482631744 + 15.266004756830288im 5.215925456974465 + 16.08338092415706im; -7.242953190598838 + 11.720011898592752im 1.694357543835014 + 13.538314276703987im 3.46493682809629 + 14.660736722891214im]\n",
      "C(1) = Complex{Float64}[-5.86249167214653 + 9.647132037906514im 0.8803223314751971 + 11.101416879387228im 3.878284908737599 + 11.77750756197981im; -8.27343842129643 + 13.569978907707455im 1.950558482631744 + 15.26600475683029im 5.215925456974465 + 16.08338092415706im; -7.242953190598836 + 11.720011898592752im 1.694357543835014 + 13.538314276703987im 3.4649368280962896 + 14.66073672289121im]\n",
      "size(C): (10, 5, 3, 3)\n",
      "A(1,1).*B(1,1) = Complex{Float64}[0.12016706455109111 + 0.7866463453678985im 0.13301098230011382 + 0.09798481734242734im 0.20686922048424608 + 0.25623053081928887im; -0.008516190506050085 + 0.1309660707563912im 0.08834848131235126 + 1.0201974871449235im 0.0015297093434845088 + 0.6664442481778317im; -0.1042379648936248 + 0.4017825881649155im 0.056638242043394675 + 0.09475188703988718im 0.17820374246790424 + 0.2946268520431004im]\n",
      "C(1,1) = Complex{Float64}[0.12016706455109111 + 0.7866463453678985im 0.13301098230011382 + 0.09798481734242734im 0.20686922048424608 + 0.25623053081928887im; -0.008516190506050085 + 0.1309660707563912im 0.08834848131235126 + 1.0201974871449235im 0.0015297093434845088 + 0.6664442481778317im; -0.1042379648936248 + 0.4017825881649155im 0.056638242043394675 + 0.09475188703988718im 0.17820374246790424 + 0.2946268520431004im]\n"
     ]
    }
   ],
   "source": [
    "using Random\n",
    "Random.seed!(0)\n",
    "\n",
    "L = 10\n",
    "K = 5\n",
    "M = 3\n",
    "R = 3\n",
    "N = 3\n",
    "\n",
    "# 行列の準備\n",
    "A = rand(L, K, M, R) .+ rand(L, K, M, R) * 1im\n",
    "B = rand(K, R, N) .+ rand(K, R, N) * 1im\n",
    "\n",
    "# アインシュタインの縮約記法での行列積\n",
    "@einsum C[l,k,m,n] := A[l,k,m,r] * B[k,r,n]\n",
    "println(\"size(C): $(size(C))\")\n",
    "\n",
    "# l=1、k=1について検算\n",
    "println(\"A(1,1)B(1,1) = $(A[1,1,:,:] * B[1,:,:])\")\n",
    "println(\"C(1,1) = $(C[1,1,:,:])\")\n",
    "\n",
    "# 行列積をl、kごとに計算したあと、1方向に和をとる\n",
    "@einsum C[k,m,n] := A[l,k,m,r] * B[k,r,n]\n",
    "println(\"size(C): $(size(C))\")\n",
    "\n",
    "# k=1について検算\n",
    "C_2 = A[1,1,:,:] * B[1,:,:]\n",
    "for l in 2:L\n",
    "    C_2 += A[l,1,:,:] * B[1,:,:]\n",
    "end\n",
    "println(\"C_2(1) = $(C_2)\")\n",
    "println(\"C(1) = $(C[1,:,:])\")\n",
    "\n",
    "# 縮約記法でのアダマール積\n",
    "@einsum C[l,k,m,n] := A[l,k,m,n] * B[k,m,n]\n",
    "println(\"size(C): $(size(C))\")\n",
    "\n",
    "# 検算\n",
    "println(\"A(1,1).*B(1,1) = $(A[1,1,:,:] .* B[1,:,:])\")\n",
    "println(\"C(1,1) = $(C[1,1,:,:])\")"
   ]
  },
  {
   "cell_type": "markdown",
   "id": "competent-definition",
   "metadata": {},
   "source": [
    "## 第2節 逆行列"
   ]
  },
  {
   "cell_type": "code",
   "execution_count": null,
   "id": "sporting-shooting",
   "metadata": {},
   "outputs": [],
   "source": []
  },
  {
   "cell_type": "markdown",
   "id": "incredible-belfast",
   "metadata": {},
   "source": [
    "## 第3節 ベクトル・行列の微分"
   ]
  },
  {
   "cell_type": "code",
   "execution_count": null,
   "id": "sonic-battlefield",
   "metadata": {},
   "outputs": [],
   "source": []
  },
  {
   "cell_type": "markdown",
   "id": "underlying-sheet",
   "metadata": {},
   "source": [
    "## 第4節 確率・統計の基礎知識"
   ]
  },
  {
   "cell_type": "code",
   "execution_count": null,
   "id": "realistic-least",
   "metadata": {},
   "outputs": [],
   "source": []
  }
 ],
 "metadata": {
  "kernelspec": {
   "display_name": "Julia 1.5.3",
   "language": "julia",
   "name": "julia-1.5"
  },
  "language_info": {
   "file_extension": ".jl",
   "mimetype": "application/julia",
   "name": "julia",
   "version": "1.5.3"
  }
 },
 "nbformat": 4,
 "nbformat_minor": 5
}
